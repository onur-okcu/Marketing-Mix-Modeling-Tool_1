{
 "cells": [
  {
   "cell_type": "code",
   "execution_count": null,
   "id": "deb5f6e5",
   "metadata": {},
   "outputs": [],
   "source": [
    "pip install pandas"
   ]
  },
  {
   "cell_type": "code",
   "execution_count": null,
   "id": "fe4b6d2b-ab8f-4f06-9b66-513cc93b5a16",
   "metadata": {
    "tags": []
   },
   "outputs": [],
   "source": [
    "# Package to generate fake data\n",
    "from faker import Faker\n",
    "import logging\n",
    "import random \n",
    "import json\n",
    "import yaml\n",
    "from datetime import datetime"
   ]
  },
  {
   "cell_type": "code",
   "execution_count": 12,
   "id": "1d1eb846",
   "metadata": {},
   "outputs": [],
   "source": [
    "import pandas as pd"
   ]
  },
  {
   "cell_type": "code",
   "execution_count": null,
   "id": "3627b4cf-e141-475d-87b8-744cefcb77ca",
   "metadata": {
    "tags": []
   },
   "outputs": [],
   "source": [
    "# import product_data.yaml\n",
    "with open(file=\"product_data.yaml\", mode='r') as file:\n",
    "    product_data = yaml.safe_load(file)"
   ]
  },
  {
   "cell_type": "code",
   "execution_count": null,
   "id": "8b8226e4",
   "metadata": {},
   "outputs": [],
   "source": [
    "product_data"
   ]
  },
  {
   "cell_type": "code",
   "execution_count": 5,
   "id": "10fd72e0-17e2-4be5-be80-109e062faff4",
   "metadata": {},
   "outputs": [],
   "source": [
    "# Instantiate Faker object\n",
    "faker = Faker()"
   ]
  },
  {
   "cell_type": "code",
   "execution_count": null,
   "id": "bb548054-a92b-4767-a5d4-482be40c5106",
   "metadata": {},
   "outputs": [],
   "source": [
    "# Configure logging with custom format\n",
    "logging.basicConfig(level=logging.INFO, format='%(asctime)s - %(levelname)s - %(message)s', datefmt='%Y-%m-%d %H:%M:%S')\n",
    "\n",
    "\"\"\"         click    view  purchase\n",
    "click        0.1     0.7     0.2\n",
    "view         0.3     0.4     0.3\n",
    "purchase     0.0     0.0     1.0\n",
    "\"\"\"\n",
    "\n",
    "TRANSITION_PROBABILITIES = {\n",
    "    \"click\":[0.1, 0.7, 0.2],\n",
    "    \"view\": [0.3, 0.4, 0.3],\n",
    "    \"purchase\": [0.0, 0.0, 1.0]\n",
    "}\n",
    "\n",
    "iteration = 0\n",
    "total_iterations = 10_000\n",
    "while iteration <= total_iterations :\n",
    "    timestamp = datetime.now().strftime('%Y-%m-%d %H:%M:%S')\n",
    "\n",
    "    n_customers = random.randint(1,10)\n",
    "\n",
    "    for _ in range(n_customers):\n",
    "        category = faker.random_element(elements=product_data.keys())\n",
    "        product = faker.random_element(elements=product_data[category])\n",
    "        \n",
    "        action = \"view\"\n",
    "        actions = [\"view\"]\n",
    "        max_user_action = random.randint(2,10)\n",
    "        print(max_user_action)\n",
    "        user_action = 1\n",
    "        while user_action <= max_user_action:\n",
    "            action = random.choices(population=[\"click\", \"view\", \"purchase\"],weights=TRANSITION_PROBABILITIES[action])[0]\n",
    "            actions.append(action)\n",
    "            user_action += 1\n",
    "            \n",
    "            if action != \"purchase\":\n",
    "                continue\n",
    "            else:\n",
    "                print(user_action)\n",
    "                break\n",
    "\n",
    "        data = {\n",
    "            \"timestamp\": timestamp,\n",
    "            \"user_id\": faker.uuid4(),\n",
    "            \"location\":[faker.location_on_land()],\n",
    "            \"action\": [actions],\n",
    "            \"nr_user_action\": user_action,\n",
    "            \"product_name\": product['name'],\n",
    "            \"category\": category,\n",
    "            \"price\": product['price'],  \n",
    "            \"quantity\": None if \"purchase\" not in actions else faker.random_digit_not_null()\n",
    "        }\n",
    "        df_data = pd.DataFrame(data = data, index = [0])\n",
    "        df_data.to_csv('user_data.csv', index = False, mode = 'a')\n",
    "\n",
    "        json_data_incoming = json.dumps(data, indent=4)\n",
    "        logging.info(\"INCOMING DATA:\\n\\n %s\", json_data_incoming)\n",
    "    iteration = iteration + 1\n",
    "    \n",
    "    \n",
    "\n",
    "\n",
    "\n",
    "\n",
    "\n"
   ]
  },
  {
   "cell_type": "code",
   "execution_count": null,
   "id": "b82df51d",
   "metadata": {},
   "outputs": [],
   "source": []
  }
 ],
 "metadata": {
  "kernelspec": {
   "display_name": ".venv",
   "language": "python",
   "name": "python3"
  },
  "language_info": {
   "codemirror_mode": {
    "name": "ipython",
    "version": 3
   },
   "file_extension": ".py",
   "mimetype": "text/x-python",
   "name": "python",
   "nbconvert_exporter": "python",
   "pygments_lexer": "ipython3",
   "version": "3.11.3"
  }
 },
 "nbformat": 4,
 "nbformat_minor": 5
}
